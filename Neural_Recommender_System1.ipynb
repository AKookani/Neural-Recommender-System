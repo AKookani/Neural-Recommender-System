{
  "nbformat": 4,
  "nbformat_minor": 0,
  "metadata": {
    "colab": {
      "provenance": []
    },
    "kernelspec": {
      "name": "python3",
      "display_name": "Python 3"
    },
    "language_info": {
      "name": "python"
    }
  },
  "cells": [
    {
      "cell_type": "code",
      "source": [
        "import torch\n",
        "import torch.nn as nn\n",
        "import torch.optim as optim\n",
        "from torch.utils.data import DataLoader, TensorDataset\n",
        "import numpy as np\n",
        "\n",
        "# Model Implementation\n",
        "class MF(nn.Module):\n",
        "    def __init__(self, num_factors, num_users, num_items):\n",
        "        super(MF, self).__init__()\n",
        "        self.P = nn.Embedding(num_embeddings=num_users, embedding_dim=num_factors)\n",
        "        self.Q = nn.Embedding(num_embeddings=num_items, embedding_dim=num_factors)\n",
        "        self.user_bias = nn.Embedding(num_embeddings=num_users, embedding_dim=1)\n",
        "        self.item_bias = nn.Embedding(num_embeddings=num_items, embedding_dim=1)\n",
        "\n",
        "    def forward(self, user_id, item_id):\n",
        "        P_u = self.P(user_id)\n",
        "        Q_i = self.Q(item_id)\n",
        "        b_u = self.user_bias(user_id).squeeze()\n",
        "        b_i = self.item_bias(item_id).squeeze()\n",
        "        outputs = (P_u * Q_i).sum(1) + b_u + b_i\n",
        "        return outputs\n",
        "\n",
        "# RMSE Evaluation\n",
        "def evaluator(net, test_iter, device):\n",
        "    criterion = nn.MSELoss()\n",
        "    net.eval()  # Set the model to evaluation mode\n",
        "    rmse = 0\n",
        "    count = 0\n",
        "    with torch.no_grad():\n",
        "        for users, items, ratings in test_iter:\n",
        "            users, items, ratings = users.to(device), items.to(device), ratings.to(device)\n",
        "            preds = net(users, items)\n",
        "            loss = torch.sqrt(criterion(preds, ratings.float()))\n",
        "            rmse += loss.item() * len(ratings)\n",
        "            count += len(ratings)\n",
        "    return rmse / count\n",
        "\n",
        "# Training and Evaluating the Model\n",
        "def train_recsys_rating(net, train_iter, test_iter, loss_fn, optimizer, num_epochs, device):\n",
        "    net = net.to(device)\n",
        "    for epoch in range(num_epochs):\n",
        "        net.train()  # Set the model to training mode\n",
        "        train_loss = 0\n",
        "        for users, items, ratings in train_iter:\n",
        "            users, items, ratings = users.to(device), items.to(device), ratings.to(device)\n",
        "\n",
        "            optimizer.zero_grad()\n",
        "            preds = net(users, items)\n",
        "            loss = loss_fn(preds, ratings.float())\n",
        "            loss.backward()\n",
        "            optimizer.step()\n",
        "            train_loss += loss.item()\n",
        "\n",
        "        test_rmse = evaluator(net, test_iter, device)\n",
        "        print(f'Epoch {epoch + 1}, Train Loss: {train_loss / len(train_iter):.4f}, Test RMSE: {test_rmse:.4f}')\n",
        "\n",
        "# Example usage\n",
        "num_users, num_items, num_factors = 1000, 1000, 10\n",
        "net = MF(num_factors=num_factors, num_users=num_users, num_items=num_items)\n",
        "\n",
        "# Example data (replace with actual data)\n",
        "users = torch.randint(0, num_users, (1000,))\n",
        "items = torch.randint(0, num_items, (1000,))\n",
        "ratings = torch.randint(1, 6, (1000,))\n",
        "\n",
        "train_dataset = TensorDataset(users[:800], items[:800], ratings[:800])\n",
        "test_dataset = TensorDataset(users[800:], items[800:], ratings[800:])\n",
        "\n",
        "train_iter = DataLoader(train_dataset, batch_size=64, shuffle=True)\n",
        "test_iter = DataLoader(test_dataset, batch_size=64, shuffle=False)\n",
        "\n",
        "device = torch.device('cuda' if torch.cuda.is_available() else 'cpu')\n",
        "loss_fn = nn.MSELoss()\n",
        "optimizer = optim.Adam(net.parameters(), lr=0.01)\n",
        "\n",
        "train_recsys_rating(net, train_iter, test_iter, loss_fn, optimizer, num_epochs=5, device=device)\n",
        "\n",
        "# Predict the rating that user ID 20 might give to item ID 30\n",
        "user_id = torch.tensor([20]).to(device)\n",
        "item_id = torch.tensor([30]).to(device)\n",
        "net.eval()  # Set the model to evaluation mode\n",
        "with torch.no_grad():\n",
        "    score = net(user_id, item_id)\n",
        "print(f'Predicted rating for user 20 and item 30: {score.item()}')\n"
      ],
      "metadata": {
        "colab": {
          "base_uri": "https://localhost:8080/"
        },
        "id": "nu6EP3yTndW3",
        "outputId": "8404a7d0-735b-4d3d-d50e-a02ba20db601"
      },
      "execution_count": null,
      "outputs": [
        {
          "output_type": "stream",
          "name": "stdout",
          "text": [
            "Epoch 1, Train Loss: 23.9337, Test RMSE: 4.9090\n",
            "Epoch 2, Train Loss: 19.2723, Test RMSE: 4.8857\n",
            "Epoch 3, Train Loss: 16.0437, Test RMSE: 4.8655\n",
            "Epoch 4, Train Loss: 13.1306, Test RMSE: 4.8488\n",
            "Epoch 5, Train Loss: 10.5954, Test RMSE: 4.8425\n",
            "Predicted rating for user 20 and item 30: -2.2230846881866455\n"
          ]
        }
      ]
    },
    {
      "cell_type": "code",
      "source": [],
      "metadata": {
        "id": "kGZrVVRCneID"
      },
      "execution_count": null,
      "outputs": []
    }
  ]
}